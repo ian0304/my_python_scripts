{
 "cells": [
  {
   "cell_type": "code",
   "execution_count": 1,
   "metadata": {},
   "outputs": [
    {
     "name": "stderr",
     "output_type": "stream",
     "text": [
      "WARNING: No IPv4 address found on anpi0 !\n",
      "WARNING: No IPv4 address found on anpi1 !\n",
      "WARNING: more No IPv4 address found on en3 !\n"
     ]
    },
    {
     "name": "stdout",
     "output_type": "stream",
     "text": [
      "Begin emission:\n",
      "Finished sending 20 packets.\n",
      "*******************\n",
      "Received 20 packets, got 20 answers, remaining 0 packets\n",
      "*   106.11.43.71:tcp80 \n",
      "1  106.11.43.71    SA \n",
      "2  106.11.43.71    SA \n",
      "3  106.11.43.71    SA \n",
      "4  106.11.43.71    SA \n",
      "5  106.11.43.71    SA \n",
      "6  106.11.43.71    SA \n",
      "7  106.11.43.71    SA \n",
      "8  106.11.43.71    SA \n",
      "9  106.11.43.71    SA \n",
      "10 106.11.43.71    SA \n",
      "11 106.11.43.71    SA \n",
      "12 106.11.43.71    SA \n",
      "13 106.11.43.71    SA \n",
      "14 106.11.43.71    SA \n",
      "15 106.11.43.71    SA \n",
      "16 106.11.43.71    SA \n",
      "17 106.11.43.71    SA \n",
      "18 106.11.43.71    SA \n",
      "19 106.11.43.71    SA \n",
      "20 106.11.43.71    SA \n",
      "   106.11.43.71:tcp80 \n",
      "1  106.11.43.71    SA \n",
      "2  106.11.43.71    SA \n",
      "3  106.11.43.71    SA \n",
      "4  106.11.43.71    SA \n",
      "5  106.11.43.71    SA \n",
      "6  106.11.43.71    SA \n",
      "7  106.11.43.71    SA \n",
      "8  106.11.43.71    SA \n",
      "9  106.11.43.71    SA \n",
      "10 106.11.43.71    SA \n",
      "11 106.11.43.71    SA \n",
      "12 106.11.43.71    SA \n",
      "13 106.11.43.71    SA \n",
      "14 106.11.43.71    SA \n",
      "15 106.11.43.71    SA \n",
      "16 106.11.43.71    SA \n",
      "17 106.11.43.71    SA \n",
      "18 106.11.43.71    SA \n",
      "19 106.11.43.71    SA \n",
      "20 106.11.43.71    SA \n"
     ]
    }
   ],
   "source": [
    "from scapy.all import traceroute\n",
    "\n",
    "def trace_ip(ip_address):\n",
    "    res, unans = traceroute(ip_address, maxttl=20)\n",
    "    res.show()\n",
    "\n",
    "trace_ip('106.11.43.71')"
   ]
  }
 ],
 "metadata": {
  "kernelspec": {
   "display_name": ".venv",
   "language": "python",
   "name": "python3"
  },
  "language_info": {
   "codemirror_mode": {
    "name": "ipython",
    "version": 3
   },
   "file_extension": ".py",
   "mimetype": "text/x-python",
   "name": "python",
   "nbconvert_exporter": "python",
   "pygments_lexer": "ipython3",
   "version": "3.12.1"
  }
 },
 "nbformat": 4,
 "nbformat_minor": 2
}
