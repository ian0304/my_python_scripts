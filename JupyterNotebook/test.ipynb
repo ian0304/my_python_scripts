{
 "cells": [
  {
   "cell_type": "code",
   "execution_count": 1,
   "metadata": {},
   "outputs": [],
   "source": [
    "from seleniumwire import webdriver  # Import from seleniumwire\n",
    "\n",
    "import dns.resolver\n",
    "import re\n",
    "\n",
    "\n",
    "# Create a new instance of the Chrome driver\n",
    "driver = webdriver.Chrome()\n",
    "\n",
    "# Go to the Google home page\n",
    "driver.get('https://www.163.com')\n"
   ]
  },
  {
   "cell_type": "code",
   "execution_count": 3,
   "metadata": {},
   "outputs": [
    {
     "data": {
      "text/plain": [
       "list"
      ]
     },
     "execution_count": 3,
     "metadata": {},
     "output_type": "execute_result"
    }
   ],
   "source": [
    "type(driver.requests)"
   ]
  },
  {
   "cell_type": "code",
   "execution_count": 6,
   "metadata": {},
   "outputs": [
    {
     "name": "stdout",
     "output_type": "stream",
     "text": [
      "answers type: <class 'dns.resolver.Answer'>\n",
      "ipval type: <class 'dns.rdtypes.IN.A.A'>\n",
      "IP 123.58.180.8\n",
      "ipval type: <class 'dns.rdtypes.IN.A.A'>\n",
      "IP 123.58.180.7\n"
     ]
    }
   ],
   "source": [
    "import dns.resolver\n",
    "\n",
    "answers = dns.resolver.resolve('163.com', 'A')\n",
    "print('answers type: '+str(type(answers)))\n",
    "for ipval in answers:\n",
    "    print('ipval type: '+str(type(ipval)))\n",
    "    print('IP', ipval.to_text())"
   ]
  },
  {
   "cell_type": "code",
   "execution_count": 17,
   "metadata": {},
   "outputs": [
    {
     "name": "stdout",
     "output_type": "stream",
     "text": [
      "[]\n"
     ]
    },
    {
     "name": "stderr",
     "output_type": "stream",
     "text": [
      "<>:5: SyntaxWarning: invalid escape sequence '\\s'\n",
      "<>:5: SyntaxWarning: invalid escape sequence '\\s'\n",
      "/var/folders/zy/34txw6ks3r58l4gg4wrm4tqw0000gq/T/ipykernel_43674/922610755.py:5: SyntaxWarning: invalid escape sequence '\\s'\n",
      "  regex = re.compile('https://(\\s+)/.+')\n"
     ]
    }
   ],
   "source": [
    "import re\n",
    "\n",
    "request = 'https://static.ws.126.net/163/frontend/antnest/NTM-KFGT6I8U-30.js?0706'\n",
    "\n",
    "regex = re.compile('https://(\\s+)/.+')\n",
    "result = (regex.findall(request))\n",
    "print(result)"
   ]
  },
  {
   "cell_type": "code",
   "execution_count": 7,
   "metadata": {},
   "outputs": [
    {
     "name": "stdout",
     "output_type": "stream",
     "text": [
      "{<re.Match object; span=(0, 20), match='https://www.163.com/'>: ['180.127.43.17', '58.222.57.40'], <re.Match object; span=(0, 28), match='https://accounts.google.com/'>: ['142.251.130.13'], <re.Match object; span=(0, 31), match='https://urswebzj.nosdn.127.net/'>: ['61.170.81.203', '61.170.81.234', '61.170.81.237'], <re.Match object; span=(0, 26), match='https://static.ws.126.net/'>: ['61.170.81.231', '61.170.81.234', '61.170.81.203'], <re.Match object; span=(0, 26), match='https://static.ws.126.net/'>: ['61.170.81.234', '61.170.81.203', '61.170.81.231'], <re.Match object; span=(0, 26), match='https://static.ws.126.net/'>: ['61.170.81.203', '61.170.81.231', '61.170.81.234'], <re.Match object; span=(0, 26), match='https://static.ws.126.net/'>: ['61.170.81.231', '61.170.81.234', '61.170.81.203'], <re.Match object; span=(0, 26), match='https://static.ws.126.net/'>: ['61.170.81.234', '61.170.81.203', '61.170.81.231'], <re.Match object; span=(0, 26), match='https://static.ws.126.net/'>: ['61.170.81.203', '61.170.81.231', '61.170.81.234'], <re.Match object; span=(0, 24), match='https://nimg.ws.126.net/'>: ['61.170.81.202', '61.170.81.250', '61.170.81.234'], <re.Match object; span=(0, 24), match='https://nimg.ws.126.net/'>: ['61.170.81.250', '61.170.81.234', '61.170.81.202'], <re.Match object; span=(0, 24), match='https://nimg.ws.126.net/'>: ['61.170.81.234', '61.170.81.202', '61.170.81.250'], <re.Match object; span=(0, 24), match='https://nimg.ws.126.net/'>: ['61.170.81.202', '61.170.81.250', '61.170.81.234'], <re.Match object; span=(0, 24), match='https://nimg.ws.126.net/'>: ['61.170.81.250', '61.170.81.234', '61.170.81.202'], <re.Match object; span=(0, 24), match='https://nimg.ws.126.net/'>: ['61.170.81.234', '61.170.81.202', '61.170.81.250'], <re.Match object; span=(0, 26), match='https://static.ws.126.net/'>: ['61.170.81.231', '61.170.81.234', '61.170.81.203'], <re.Match object; span=(0, 24), match='https://nimg.ws.126.net/'>: ['61.170.81.202', '61.170.81.250', '61.170.81.234'], <re.Match object; span=(0, 26), match='https://static.ws.126.net/'>: ['61.170.81.234', '61.170.81.203', '61.170.81.231'], <re.Match object; span=(0, 24), match='https://nimg.ws.126.net/'>: ['61.170.81.250', '61.170.81.234', '61.170.81.202'], <re.Match object; span=(0, 26), match='https://static.ws.126.net/'>: ['61.170.81.203', '61.170.81.231', '61.170.81.234'], <re.Match object; span=(0, 24), match='https://nimg.ws.126.net/'>: ['61.170.81.234', '61.170.81.202', '61.170.81.250'], <re.Match object; span=(0, 26), match='https://static.ws.126.net/'>: ['61.170.81.231', '61.170.81.234', '61.170.81.203'], <re.Match object; span=(0, 24), match='https://nimg.ws.126.net/'>: ['61.170.81.202', '61.170.81.250', '61.170.81.234'], <re.Match object; span=(0, 24), match='https://nimg.ws.126.net/'>: ['61.170.81.250', '61.170.81.234', '61.170.81.202'], <re.Match object; span=(0, 24), match='https://nimg.ws.126.net/'>: ['61.170.81.234', '61.170.81.202', '61.170.81.250'], <re.Match object; span=(0, 26), match='https://static.ws.126.net/'>: ['61.170.81.234', '61.170.81.203', '61.170.81.231'], <re.Match object; span=(0, 24), match='https://nimg.ws.126.net/'>: ['61.170.81.202', '61.170.81.250', '61.170.81.234'], <re.Match object; span=(0, 26), match='https://static.ws.126.net/'>: ['61.170.81.203', '61.170.81.231', '61.170.81.234'], <re.Match object; span=(0, 26), match='https://static.ws.126.net/'>: ['61.170.81.231', '61.170.81.234', '61.170.81.203'], <re.Match object; span=(0, 26), match='https://static.ws.126.net/'>: ['61.170.81.234', '61.170.81.203', '61.170.81.231'], <re.Match object; span=(0, 26), match='https://static.ws.126.net/'>: ['61.170.81.203', '61.170.81.231', '61.170.81.234'], <re.Match object; span=(0, 26), match='https://static.ws.126.net/'>: ['61.170.81.231', '61.170.81.234', '61.170.81.203'], <re.Match object; span=(0, 26), match='https://static.ws.126.net/'>: ['61.170.81.234', '61.170.81.203', '61.170.81.231'], <re.Match object; span=(0, 26), match='https://static.ws.126.net/'>: ['61.170.81.203', '61.170.81.231', '61.170.81.234'], <re.Match object; span=(0, 26), match='https://static.ws.126.net/'>: ['61.170.81.231', '61.170.81.234', '61.170.81.203'], <re.Match object; span=(0, 26), match='https://static.ws.126.net/'>: ['61.170.81.234', '61.170.81.203', '61.170.81.231'], <re.Match object; span=(0, 20), match='https://www.163.com/'>: ['180.127.43.17', '58.222.57.40'], <re.Match object; span=(0, 20), match='https://www.163.com/'>: ['58.222.57.40', '180.127.43.17'], <re.Match object; span=(0, 20), match='https://c.m.163.com/'>: ['101.71.145.130'], <re.Match object; span=(0, 40), match='https://content-autofill.googleapis.com/'>: ['142.250.204.74', '142.250.204.106', '142.250.204.138', '172.217.24.74', '216.58.200.234', '216.58.203.74', '142.251.220.10', '142.251.220.42', '142.251.220.74', '142.251.220.106', '142.251.130.10', '142.251.222.202', '172.217.27.42', '172.217.31.10', '142.250.199.74', '142.250.204.42'], <re.Match object; span=(0, 21), match='https://gw.m.163.com/'>: ['119.167.135.243', '119.167.135.238', '119.167.135.242', '119.167.135.241', '119.167.135.236', '119.167.137.74', '119.167.135.239', '119.167.135.240'], <re.Match object; span=(0, 20), match='https://www.163.com/'>: ['180.127.43.17', '58.222.57.40'], <re.Match object; span=(0, 24), match='https://nimg.ws.126.net/'>: ['61.170.81.250', '61.170.81.234', '61.170.81.202'], <re.Match object; span=(0, 24), match='https://nimg.ws.126.net/'>: ['61.170.81.234', '61.170.81.202', '61.170.81.250'], <re.Match object; span=(0, 24), match='https://nimg.ws.126.net/'>: ['61.170.81.202', '61.170.81.250', '61.170.81.234'], <re.Match object; span=(0, 20), match='https://www.163.com/'>: ['58.222.57.40', '180.127.43.17'], <re.Match object; span=(0, 40), match='https://content-autofill.googleapis.com/'>: ['142.250.204.106', '142.250.204.138', '172.217.24.74', '216.58.200.234', '216.58.203.74', '142.251.220.10', '142.251.220.42', '142.251.220.74', '142.251.220.106', '142.251.130.10', '142.251.222.202', '172.217.27.42', '172.217.31.10', '142.250.199.74', '142.250.204.42', '142.250.204.74'], <re.Match object; span=(0, 24), match='https://nimg.ws.126.net/'>: ['61.170.81.250', '61.170.81.234', '61.170.81.202'], <re.Match object; span=(0, 24), match='https://nimg.ws.126.net/'>: ['61.170.81.234', '61.170.81.202', '61.170.81.250'], <re.Match object; span=(0, 26), match='https://static.ws.126.net/'>: ['61.170.81.203', '61.170.81.231', '61.170.81.234'], <re.Match object; span=(0, 26), match='https://static.ws.126.net/'>: ['61.170.81.231', '61.170.81.234', '61.170.81.203'], <re.Match object; span=(0, 24), match='https://nimg.ws.126.net/'>: ['61.170.81.202', '61.170.81.250', '61.170.81.234'], <re.Match object; span=(0, 21), match='https://gw.m.163.com/'>: ['119.167.135.238', '119.167.135.242', '119.167.135.241', '119.167.135.236', '119.167.137.74', '119.167.135.239', '119.167.135.240', '119.167.135.243'], <re.Match object; span=(0, 24), match='https://nimg.ws.126.net/'>: ['61.170.81.250', '61.170.81.234', '61.170.81.202'], <re.Match object; span=(0, 24), match='https://nimg.ws.126.net/'>: ['61.170.81.234', '61.170.81.202', '61.170.81.250'], <re.Match object; span=(0, 24), match='https://nimg.ws.126.net/'>: ['61.170.81.202', '61.170.81.250', '61.170.81.234'], <re.Match object; span=(0, 24), match='https://nimg.ws.126.net/'>: ['61.170.81.250', '61.170.81.234', '61.170.81.202'], <re.Match object; span=(0, 29), match='https://ipservice.ws.126.net/'>: ['115.236.118.51'], <re.Match object; span=(0, 18), match='https://g.163.com/'>: ['101.71.145.129'], <re.Match object; span=(0, 18), match='https://g.163.com/'>: ['101.71.145.129'], <re.Match object; span=(0, 18), match='https://g.163.com/'>: ['101.71.145.129'], <re.Match object; span=(0, 18), match='https://g.163.com/'>: ['101.71.145.129'], <re.Match object; span=(0, 18), match='https://g.163.com/'>: ['101.71.145.129'], <re.Match object; span=(0, 18), match='https://g.163.com/'>: ['101.71.145.129'], <re.Match object; span=(0, 27), match='https://photo.home.163.com/'>: ['101.71.145.132'], <re.Match object; span=(0, 20), match='https://www.163.com/'>: ['180.127.43.17', '58.222.57.40'], <re.Match object; span=(0, 20), match='https://www.163.com/'>: ['58.222.57.40', '180.127.43.17'], <re.Match object; span=(0, 29), match='https://h5.analytics.126.net/'>: ['101.71.154.230'], <re.Match object; span=(0, 29), match='https://cpro.baidustatic.com/'>: ['119.188.176.35'], <re.Match object; span=(0, 24), match='https://nimg.ws.126.net/'>: ['61.170.81.234', '61.170.81.202', '61.170.81.250'], <re.Match object; span=(0, 24), match='https://nimg.ws.126.net/'>: ['61.170.81.202', '61.170.81.250', '61.170.81.234'], <re.Match object; span=(0, 24), match='https://nimg.ws.126.net/'>: ['61.170.81.250', '61.170.81.234', '61.170.81.202'], <re.Match object; span=(0, 24), match='https://nimg.ws.126.net/'>: ['61.170.81.234', '61.170.81.202', '61.170.81.250'], <re.Match object; span=(0, 26), match='https://yt-adp.ws.126.net/'>: ['180.127.43.17', '58.222.57.40'], <re.Match object; span=(0, 26), match='https://yt-adp.ws.126.net/'>: ['58.222.57.40', '180.127.43.17'], <re.Match object; span=(0, 26), match='https://yt-adp.ws.126.net/'>: ['180.127.43.17', '58.222.57.40'], <re.Match object; span=(0, 22), match='https://house.163.com/'>: ['101.89.125.238', '61.170.81.202', '61.170.81.231'], <re.Match object; span=(0, 22), match='https://house.163.com/'>: ['61.170.81.202', '61.170.81.231', '101.89.125.238'], <re.Match object; span=(0, 18), match='https://g.163.com/'>: ['101.71.145.129'], <re.Match object; span=(0, 18), match='https://g.163.com/'>: ['101.71.145.129'], <re.Match object; span=(0, 18), match='https://g.163.com/'>: ['101.71.145.129'], <re.Match object; span=(0, 18), match='https://g.163.com/'>: ['101.71.145.129'], <re.Match object; span=(0, 18), match='https://g.163.com/'>: ['101.71.145.129'], <re.Match object; span=(0, 24), match='https://nimg.ws.126.net/'>: ['61.170.81.202', '61.170.81.250', '61.170.81.234'], <re.Match object; span=(0, 29), match='https://h5.analytics.126.net/'>: ['101.71.154.230'], <re.Match object; span=(0, 30), match='https://cms-bucket.ws.126.net/'>: ['58.222.57.40', '180.127.43.17']}\n"
     ]
    }
   ],
   "source": [
    "from seleniumwire import webdriver  # Import from seleniumwire\n",
    "import pandas as pd\n",
    "import dns.resolver\n",
    "import re\n",
    "\n",
    "\n",
    "# Create a new instance of the Chrome driver\n",
    "driver = webdriver.Chrome()\n",
    "\n",
    "# Go to the Google home page\n",
    "driver.get('https://www.163.com')\n",
    "\n",
    "data = {}\n",
    "\n",
    "# Access requests via the `requests` attribute\n",
    "for request in driver.requests:\n",
    "    if request.response:\n",
    "        pattern = re.compile('https?://([^/]*)/')\n",
    "        website = pattern.search(request.url)\n",
    "        ip = dns.resolver.resolve(website.group(1), 'A')\n",
    "        ip_list = []\n",
    "        for ipval in ip:\n",
    "            ip_list.append(ipval.to_text())\n",
    "        data[website.group(1)]=ip_list\n",
    "\n",
    "print(data)"
   ]
  }
 ],
 "metadata": {
  "kernelspec": {
   "display_name": ".venv",
   "language": "python",
   "name": "python3"
  },
  "language_info": {
   "codemirror_mode": {
    "name": "ipython",
    "version": 3
   },
   "file_extension": ".py",
   "mimetype": "text/x-python",
   "name": "python",
   "nbconvert_exporter": "python",
   "pygments_lexer": "ipython3",
   "version": "3.12.1"
  }
 },
 "nbformat": 4,
 "nbformat_minor": 2
}
